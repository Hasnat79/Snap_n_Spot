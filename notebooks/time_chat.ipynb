{
 "cells": [
  {
   "cell_type": "code",
   "execution_count": 2,
   "metadata": {},
   "outputs": [],
   "source": [
    "import sys\n",
    "\n",
    "sys.path.append(\"/home/grads/h/hasnat.md.abdullah/Snap_n_Spot/vid_llms/TimeChat\")"
   ]
  },
  {
   "cell_type": "code",
   "execution_count": 3,
   "metadata": {},
   "outputs": [
    {
     "name": "stdout",
     "output_type": "stream",
     "text": [
      "Error while loading conda entry point: conda-libmamba-solver (libarchive.so.20: cannot open shared object file: No such file or directory)\n",
      "/home/grads/h/hasnat.md.abdullah/miniconda3/lib/python3.11/argparse.py:1983: FutureWarning: `remote_definition` is deprecated and will be removed in 25.9. Use `conda env create --file=URL` instead.\n",
      "  action(self, namespace, argument_values, option_string)\n",
      "\n",
      "CondaValueError: prefix already exists: /home/grads/h/hasnat.md.abdullah/miniconda3/envs/timechat\n",
      "\n"
     ]
    }
   ],
   "source": [
    "#setup\n",
    "!conda env create -f /home/grads/h/hasnat.md.abdullah/Snap_n_Spot/vid_llms/TimeChat/environment.yml"
   ]
  },
  {
   "cell_type": "code",
   "execution_count": 4,
   "metadata": {},
   "outputs": [
    {
     "name": "stdout",
     "output_type": "stream",
     "text": [
      "['/home/grads/h/hasnat.md.abdullah/Snap_n_Spot/notebooks', '/home/grads/h/hasnat.md.abdullah/Snap_n_Spot/notebooks', '/home/grads/h/hasnat.md.abdullah/h2i_hatespeech_to_image', '/home/grads/h/hasnat.md.abdullah/h2i_hatespeech_to_image/src', '/home/grads/h/hasnat.md.abdullah/miniconda3/envs/timechat/lib/python39.zip', '/home/grads/h/hasnat.md.abdullah/miniconda3/envs/timechat/lib/python3.9', '/home/grads/h/hasnat.md.abdullah/miniconda3/envs/timechat/lib/python3.9/lib-dynload', '', '/home/grads/h/hasnat.md.abdullah/miniconda3/envs/timechat/lib/python3.9/site-packages', '/home/grads/h/hasnat.md.abdullah/Snap_n_Spot/vid_llms/TimeChat']\n"
     ]
    }
   ],
   "source": [
    "print(sys.path)"
   ]
  },
  {
   "cell_type": "code",
   "execution_count": 5,
   "metadata": {},
   "outputs": [
    {
     "name": "stderr",
     "output_type": "stream",
     "text": [
      "/home/grads/h/hasnat.md.abdullah/miniconda3/envs/timechat/lib/python3.9/site-packages/tqdm/auto.py:22: TqdmWarning: IProgress not found. Please update jupyter and ipywidgets. See https://ipywidgets.readthedocs.io/en/stable/user_install.html\n",
      "  from .autonotebook import tqdm as notebook_tqdm\n"
     ]
    }
   ],
   "source": [
    "import argparse\n",
    "import os\n",
    "import random\n",
    "import json\n",
    "import numpy as np\n",
    "import torch\n",
    "import torch.backends.cudnn as cudnn\n",
    "from timechat.common.config import Config\n",
    "from timechat.common.dist_utils import get_rank\n",
    "from timechat.common.registry import registry\n",
    "from timechat.conversation.conversation_video import Chat, Conversation, default_conversation,SeparatorStyle, conv_llava_llama_2\n",
    "import decord\n",
    "import cv2\n",
    "import time\n",
    "import subprocess\n",
    "from decord import VideoReader\n",
    "from timechat.processors.video_processor import ToTHWC, ToUint8, load_video\n",
    "decord.bridge.set_bridge('torch')\n",
    "\n",
    "# imports modules for registration\n",
    "from timechat.datasets.builders import *\n",
    "from timechat.models import *\n",
    "from timechat.processors import *\n",
    "from timechat.runners import *\n",
    "from timechat.tasks import *\n",
    "\n",
    "import random as rnd\n",
    "from transformers import StoppingCriteria, StoppingCriteriaList\n",
    "from PIL import Image\n",
    "import gradio as gr"
   ]
  },
  {
   "cell_type": "code",
   "execution_count": 6,
   "metadata": {},
   "outputs": [],
   "source": [
    "def parse_args():\n",
    "    parser = argparse.ArgumentParser(description=\"Demo\")\n",
    "    parser.add_argument(\"--cfg-path\", default='/home/grads/h/hasnat.md.abdullah/Snap_n_Spot/vid_llms/TimeChat/eval_configs/timechat.yaml', help=\"path to configuration file.\")\n",
    "    parser.add_argument(\"--gpu-id\", type=int, default=0, help=\"specify the gpu to load the model.\")\n",
    "    parser.add_argument(\"--num-beams\", type=int, default=1)\n",
    "    parser.add_argument(\"--temperature\", type=float, default=1.0)\n",
    "    parser.add_argument(\"--text-query\", default=\"What is he doing?\", help=\"question the video\")\n",
    "    parser.add_argument(\"--video-path\", default='/home/grads/h/hasnat.md.abdullah/Snap_n_Spot/vid_llms/TimeChat/examples/hotdog.mp4', help=\"path to video file.\")\n",
    "    parser.add_argument(\n",
    "        \"--options\",\n",
    "        nargs=\"+\",\n",
    "        help=\"override some settings in the used config, the key-value pair \"\n",
    "        \"in xxx=yyy format will be merged into config file (deprecate), \"\n",
    "        \"change to --cfg-options instead.\",\n",
    "    )\n",
    "    args = parser.parse_args(args=[])\n",
    "    return args"
   ]
  },
  {
   "cell_type": "code",
   "execution_count": 11,
   "metadata": {},
   "outputs": [],
   "source": [
    "!export CUDA_VISIBLE_DEVICES=0,1"
   ]
  },
  {
   "cell_type": "code",
   "execution_count": 8,
   "metadata": {},
   "outputs": [
    {
     "name": "stdout",
     "output_type": "stream",
     "text": [
      "Loading VIT\n",
      "Loading VIT Done\n",
      "Loading Q-Former\n",
      "use text input for Qformer\n"
     ]
    },
    {
     "name": "stderr",
     "output_type": "stream",
     "text": [
      "You are using the default legacy behaviour of the <class 'transformers.models.llama.tokenization_llama.LlamaTokenizer'>. This is expected, and simply means that the `legacy` (previous) behavior will be used so nothing changes for you. If you want to use the new behaviour, set `legacy=False`. This should only be set if you understand what it means, and thouroughly read the reason why this was added as explained in https://github.com/huggingface/transformers/pull/24565\n",
      "Using pad_token, but it is not set yet.\n",
      "Loading checkpoint shards: 100%|██████████| 2/2 [00:09<00:00,  4.68s/it]\n"
     ]
    },
    {
     "name": "stdout",
     "output_type": "stream",
     "text": [
      "\n",
      "===================================BUG REPORT===================================\n",
      "Welcome to bitsandbytes. For bug reports, please submit your error trace to: https://github.com/TimDettmers/bitsandbytes/issues\n",
      "================================================================================\n",
      "trainable params: 0 || all params: 6,771,970,048 || trainable%: 0.0\n",
      "Load first Checkpoint: /home/grads/h/hasnat.md.abdullah/Snap_n_Spot/vid_llms/TimeChat/ckpt/timechat/timechat_7b.pth\n"
     ]
    }
   ],
   "source": [
    "args = parse_args()\n",
    "cfg = Config(args)\n",
    "\n",
    "DIR=\"/home/grads/h/hasnat.md.abdullah/Snap_n_Spot/vid_llms/TimeChat/ckpt/timechat\"\n",
    "MODEL_DIR=f\"{DIR}/timechat_7b.pth\"\n",
    "model_config = cfg.model_cfg\n",
    "model_config.device_8bit = args.gpu_id\n",
    "model_config.ckpt = MODEL_DIR\n",
    "model_cls = registry.get_model_class(model_config.arch)\n",
    "device = torch.device(\"cuda:1\" if torch.cuda.is_available() else \"cpu\")\n",
    "model = model_cls.from_config(model_config).to(device)\n",
    "model.eval()\n",
    "\n",
    "vis_processor_cfg = cfg.datasets_cfg.webvid.vis_processor.train\n",
    "vis_processor = registry.get_processor_class(vis_processor_cfg.name).from_config(vis_processor_cfg)"
   ]
  },
  {
   "cell_type": "code",
   "execution_count": null,
   "metadata": {},
   "outputs": [
    {
     "name": "stdout",
     "output_type": "stream",
     "text": [
      "Initialization Finished\n"
     ]
    },
    {
     "name": "stderr",
     "output_type": "stream",
     "text": [
      "/home/grads/h/hasnat.md.abdullah/miniconda3/envs/timechat/lib/python3.9/site-packages/torch/utils/checkpoint.py:429: UserWarning: torch.utils.checkpoint: please pass in use_reentrant=True or use_reentrant=False explicitly. The default value of use_reentrant will be updated to be False in the future. To maintain current behavior, pass use_reentrant=True. It is recommended that you use use_reentrant=False. Refer to docs for more details on the differences between the two variants.\n",
      "  warnings.warn(\n",
      "/home/grads/h/hasnat.md.abdullah/miniconda3/envs/timechat/lib/python3.9/site-packages/torch/utils/checkpoint.py:61: UserWarning: None of the inputs have requires_grad=True. Gradients will be None\n",
      "  warnings.warn(\n"
     ]
    },
    {
     "name": "stdout",
     "output_type": "stream",
     "text": [
      "You are given a cooking video from the YouCook2 dataset. Please watch the video and extract a maximum of 10 significant cooking steps. For each step, determine the starting and ending times and provide a concise description. The format should be: 'start time - end time, brief step description'. For example, ' 90 - 102 seconds, spread margarine on two slices of white bread'.\n",
      "0.0 - 23.0 seconds, The chef is standing in a backyard.  23.0 - 32.4 seconds, He is wearing a red shirt and a black apron.  32.4 - 67.8 seconds, He has a pizza tray in his hands.  67.8 - 163.9 seconds, He spooned sausage and cheese on the pizza.  163.9 - 205.6 seconds, He put it on the grill and turned on the gas.  205.6 - 209.3 seconds, He cooked it and added tomato sauce.\n"
     ]
    },
    {
     "ename": "",
     "evalue": "",
     "output_type": "error",
     "traceback": [
      "\u001b[1;31mThe Kernel crashed while executing code in the current cell or a previous cell. \n",
      "\u001b[1;31mPlease review the code in the cell(s) to identify a possible cause of the failure. \n",
      "\u001b[1;31mClick <a href='https://aka.ms/vscodeJupyterKernelCrash'>here</a> for more info. \n",
      "\u001b[1;31mView Jupyter <a href='command:jupyter.viewOutput'>log</a> for further details."
     ]
    }
   ],
   "source": [
    "chat = Chat(model, vis_processor, device='cuda:1')\n",
    "print('Initialization Finished')\n",
    "video, _ = load_video(\n",
    "    video_path=args.video_path,\n",
    "    n_frms=32,\n",
    "    sampling =\"uniform\", return_msg = True\n",
    ")\n",
    "img_list = []\n",
    "chat_state = conv_llava_llama_2.copy()\n",
    "chat_state.system =  \"You are able to understand the visual content that the user provides. Follow the instructions carefully and explain your answers in detail.\"\n",
    "msg = chat.upload_video_without_audio(\n",
    "    video_path=args.video_path, \n",
    "    conv=chat_state,\n",
    "    img_list=img_list, \n",
    "    n_frms=96,\n",
    ")\n",
    "text_input = \"You are given a cooking video from the YouCook2 dataset. Please watch the video and extract a maximum of 10 significant cooking steps. For each step, determine the starting and ending times and provide a concise description. The format should be: 'start time - end time, brief step description'. For example, ' 90 - 102 seconds, spread margarine on two slices of white bread'.\"\n",
    "print(text_input)\n",
    "\n",
    "chat.ask(text_input, chat_state)\n",
    "\n",
    "num_beams = args.num_beams\n",
    "temperature = args.temperature\n",
    "llm_message = chat.answer(conv=chat_state,\n",
    "                          img_list=img_list,\n",
    "                          num_beams=num_beams,\n",
    "                          temperature=temperature,\n",
    "                          max_new_tokens=300,\n",
    "                          max_length=2000)[0]\n",
    "\n",
    "print(llm_message)"
   ]
  },
  {
   "cell_type": "code",
   "execution_count": null,
   "metadata": {},
   "outputs": [],
   "source": []
  }
 ],
 "metadata": {
  "kernelspec": {
   "display_name": "timechat",
   "language": "python",
   "name": "python3"
  },
  "language_info": {
   "codemirror_mode": {
    "name": "ipython",
    "version": 3
   },
   "file_extension": ".py",
   "mimetype": "text/x-python",
   "name": "python",
   "nbconvert_exporter": "python",
   "pygments_lexer": "ipython3",
   "version": "3.9.18"
  }
 },
 "nbformat": 4,
 "nbformat_minor": 2
}
